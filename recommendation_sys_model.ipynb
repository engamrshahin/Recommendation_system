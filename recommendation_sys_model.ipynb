{
 "cells": [
  {
   "cell_type": "markdown",
   "id": "57fdd96a",
   "metadata": {},
   "source": [
    "# Item to item based recommendation system based on product description\n"
   ]
  },
  {
   "cell_type": "markdown",
   "id": "07ee1ce5",
   "metadata": {},
   "source": [
    "For my business without any user-item purchase history, a search engine based recommendation system can be designed for users. The product recommendations can be based on textual clustering analysis given in the product description."
   ]
  },
  {
   "cell_type": "code",
   "execution_count": 1,
   "id": "5cbf117e",
   "metadata": {},
   "outputs": [],
   "source": [
    "# Importing libraries\n",
    "\n",
    "import numpy as np\n",
    "import pandas as pd\n",
    "import matplotlib.pyplot as plt\n",
    "# %matplotlib inline\n",
    "plt.style.use(\"ggplot\")\n",
    "import sklearn\n",
    "from sklearn.decomposition import TruncatedSVD\n",
    "from sklearn.feature_extraction.text import TfidfVectorizer, CountVectorizer\n",
    "from sklearn.neighbors import NearestNeighbors\n",
    "from sklearn.cluster import KMeans\n",
    "from sklearn.metrics import adjusted_rand_score"
   ]
  },
  {
   "cell_type": "code",
   "execution_count": 2,
   "id": "2bb43068",
   "metadata": {},
   "outputs": [
    {
     "data": {
      "text/plain": [
       "(124428, 2)"
      ]
     },
     "execution_count": 2,
     "metadata": {},
     "output_type": "execute_result"
    }
   ],
   "source": [
    "product_descriptions = pd.read_csv('product_descriptions.csv')\n",
    "product_descriptions.shape"
   ]
  },
  {
   "cell_type": "code",
   "execution_count": 3,
   "id": "9c7a6bae",
   "metadata": {},
   "outputs": [
    {
     "data": {
      "text/html": [
       "<div>\n",
       "<style scoped>\n",
       "    .dataframe tbody tr th:only-of-type {\n",
       "        vertical-align: middle;\n",
       "    }\n",
       "\n",
       "    .dataframe tbody tr th {\n",
       "        vertical-align: top;\n",
       "    }\n",
       "\n",
       "    .dataframe thead th {\n",
       "        text-align: right;\n",
       "    }\n",
       "</style>\n",
       "<table border=\"1\" class=\"dataframe\">\n",
       "  <thead>\n",
       "    <tr style=\"text-align: right;\">\n",
       "      <th></th>\n",
       "      <th>product_uid</th>\n",
       "      <th>product_description</th>\n",
       "    </tr>\n",
       "  </thead>\n",
       "  <tbody>\n",
       "    <tr>\n",
       "      <th>0</th>\n",
       "      <td>100001</td>\n",
       "      <td>Not only do angles make joints stronger, they ...</td>\n",
       "    </tr>\n",
       "    <tr>\n",
       "      <th>1</th>\n",
       "      <td>100002</td>\n",
       "      <td>BEHR Premium Textured DECKOVER is an innovativ...</td>\n",
       "    </tr>\n",
       "    <tr>\n",
       "      <th>2</th>\n",
       "      <td>100003</td>\n",
       "      <td>Classic architecture meets contemporary design...</td>\n",
       "    </tr>\n",
       "    <tr>\n",
       "      <th>3</th>\n",
       "      <td>100004</td>\n",
       "      <td>The Grape Solar 265-Watt Polycrystalline PV So...</td>\n",
       "    </tr>\n",
       "    <tr>\n",
       "      <th>4</th>\n",
       "      <td>100005</td>\n",
       "      <td>Update your bathroom with the Delta Vero Singl...</td>\n",
       "    </tr>\n",
       "  </tbody>\n",
       "</table>\n",
       "</div>"
      ],
      "text/plain": [
       "   product_uid                                product_description\n",
       "0       100001  Not only do angles make joints stronger, they ...\n",
       "1       100002  BEHR Premium Textured DECKOVER is an innovativ...\n",
       "2       100003  Classic architecture meets contemporary design...\n",
       "3       100004  The Grape Solar 265-Watt Polycrystalline PV So...\n",
       "4       100005  Update your bathroom with the Delta Vero Singl..."
      ]
     },
     "execution_count": 3,
     "metadata": {},
     "output_type": "execute_result"
    }
   ],
   "source": [
    "# Missing values\n",
    "\n",
    "product_descriptions = product_descriptions.dropna()\n",
    "product_descriptions.shape\n",
    "product_descriptions.head()"
   ]
  },
  {
   "cell_type": "code",
   "execution_count": 4,
   "id": "35ff3444",
   "metadata": {},
   "outputs": [
    {
     "data": {
      "text/plain": [
       "0    Not only do angles make joints stronger, they ...\n",
       "1    BEHR Premium Textured DECKOVER is an innovativ...\n",
       "2    Classic architecture meets contemporary design...\n",
       "3    The Grape Solar 265-Watt Polycrystalline PV So...\n",
       "4    Update your bathroom with the Delta Vero Singl...\n",
       "5    Achieving delicious results is almost effortle...\n",
       "6    The Quantum Adjustable 2-Light LED Black Emerg...\n",
       "7    The Teks #10 x 1-1/2 in. Zinc-Plated Steel Was...\n",
       "8    Get the House of Fara 3/4 in. x 3 in. x 8 ft. ...\n",
       "9    Valley View Industries Metal Stakes (4-Pack) a...\n",
       "Name: product_description, dtype: object"
      ]
     },
     "execution_count": 4,
     "metadata": {},
     "output_type": "execute_result"
    }
   ],
   "source": [
    "product_descriptions1 = product_descriptions.head(500)\n",
    "# product_descriptions1.iloc[:,1]\n",
    "\n",
    "product_descriptions1[\"product_description\"].head(10)"
   ]
  },
  {
   "cell_type": "code",
   "execution_count": 5,
   "id": "666fb6d2",
   "metadata": {},
   "outputs": [
    {
     "data": {
      "text/plain": [
       "<500x8932 sparse matrix of type '<class 'numpy.float64'>'\n",
       "\twith 34817 stored elements in Compressed Sparse Row format>"
      ]
     },
     "execution_count": 5,
     "metadata": {},
     "output_type": "execute_result"
    }
   ],
   "source": [
    "#Feature extraction from product descriptions\n",
    "\n",
    "vectorizer = TfidfVectorizer(stop_words='english')\n",
    "X1 = vectorizer.fit_transform(product_descriptions1[\"product_description\"])\n",
    "X1"
   ]
  },
  {
   "cell_type": "code",
   "execution_count": 6,
   "id": "3b1f98c1",
   "metadata": {},
   "outputs": [
    {
     "data": {
      "image/png": "[encoded data removed]",
      "text/plain": [
       "<Figure size 432x288 with 1 Axes>"
      ]
     },
     "metadata": {},
     "output_type": "display_data"
    }
   ],
   "source": [
    "# Fitting K-Means to the dataset\n",
    "\n",
    "X=X1\n",
    "\n",
    "kmeans = KMeans(n_clusters = 10, init = 'k-means++')\n",
    "y_kmeans = kmeans.fit_predict(X)\n",
    "plt.plot(y_kmeans, \".\")\n",
    "plt.show()"
   ]
  },
  {
   "cell_type": "code",
   "execution_count": 7,
   "id": "70dd0e0a",
   "metadata": {},
   "outputs": [
    {
     "name": "stdout",
     "output_type": "stream",
     "text": [
      "Top terms per cluster:\n",
      "Cluster 0:\n",
      " tool\n",
      " cutting\n",
      " blade\n",
      " grip\n",
      " power\n",
      " easy\n",
      " saw\n",
      " tools\n",
      " handle\n",
      " work\n",
      "Cluster 1:\n",
      " window\n",
      " natural\n",
      " wood\n",
      " bamboo\n",
      " post\n",
      " insulation\n",
      " mount\n",
      " rug\n",
      " outdoor\n",
      " indoor\n",
      "Cluster 2:\n",
      " light\n",
      " watt\n",
      " led\n",
      " bulb\n",
      " fan\n",
      " lighting\n",
      " bulbs\n",
      " fixture\n",
      " use\n",
      " ceiling\n",
      "Cluster 3:\n",
      " wall\n",
      " storage\n",
      " shelves\n",
      " shelf\n",
      " finish\n",
      " home\n",
      " adjustable\n",
      " lbs\n",
      " white\n",
      " cover\n",
      "Cluster 4:\n",
      " water\n",
      " cycle\n",
      " oven\n",
      " wash\n",
      " cooking\n",
      " cu\n",
      " snow\n",
      " door\n",
      " easy\n",
      " energy\n",
      "Cluster 5:\n",
      " cutting\n",
      " grass\n",
      " lawn\n",
      " designed\n",
      " bar\n",
      " stake\n",
      " mower\n",
      " easy\n",
      " 10\n",
      " height\n",
      "Cluster 6:\n",
      " dog\n",
      " door\n",
      " easy\n",
      " pet\n",
      " roof\n",
      " house\n",
      " tooth\n",
      " removable\n",
      " beaded\n",
      " melt\n",
      "Cluster 7:\n",
      " power\n",
      " air\n",
      " cooling\n",
      " volt\n",
      " unit\n",
      " amp\n",
      " battery\n",
      " m12\n",
      " room\n",
      " watt\n",
      "Cluster 8:\n",
      " water\n",
      " toilet\n",
      " flush\n",
      " bowl\n",
      " tank\n",
      " gal\n",
      " piece\n",
      " heater\n",
      " clean\n",
      " easy\n",
      "Cluster 9:\n",
      " ft\n",
      " frame\n",
      " patio\n",
      " easy\n",
      " steel\n",
      " metal\n",
      " outdoor\n",
      " resistant\n",
      " use\n",
      " fabric\n"
     ]
    }
   ],
   "source": [
    "# Optimal clusters is \n",
    "\n",
    "true_k = 10\n",
    "\n",
    "model = KMeans(n_clusters=true_k, init='k-means++', max_iter=100, n_init=1)\n",
    "model.fit(X1)\n",
    "\n",
    "print(\"Top terms per cluster:\")\n",
    "order_centroids = model.cluster_centers_.argsort()[:, ::-1]\n",
    "terms = vectorizer.get_feature_names_out()\n",
    "for i in range(true_k):\n",
    "    print(\"Cluster %d:\" % i),\n",
    "    for ind in order_centroids[i, :10]:\n",
    "        print(' %s' % terms[ind]),\n",
    "    print"
   ]
  },
  {
   "cell_type": "code",
   "execution_count": 8,
   "id": "618b1a30",
   "metadata": {},
   "outputs": [
    {
     "name": "stdout",
     "output_type": "stream",
     "text": [
      "Cluster ID:\n",
      "[0]\n"
     ]
    }
   ],
   "source": [
    "#Predicting clusters based on key search words\n",
    "\n",
    "print(\"Cluster ID:\")\n",
    "Y = vectorizer.transform([\"cutting tool\"])\n",
    "prediction = model.predict(Y)\n",
    "print(prediction)"
   ]
  },
  {
   "cell_type": "code",
   "execution_count": 9,
   "id": "147b8e9c",
   "metadata": {},
   "outputs": [
    {
     "name": "stdout",
     "output_type": "stream",
     "text": [
      "Cluster ID:\n",
      "[9]\n"
     ]
    }
   ],
   "source": [
    "print(\"Cluster ID:\")\n",
    "Y = vectorizer.transform([\"spray paint\"])\n",
    "prediction = model.predict(Y)\n",
    "print(prediction)"
   ]
  },
  {
   "cell_type": "code",
   "execution_count": 10,
   "id": "84f959f1",
   "metadata": {},
   "outputs": [
    {
     "name": "stdout",
     "output_type": "stream",
     "text": [
      "Cluster ID:\n",
      "[9]\n"
     ]
    }
   ],
   "source": [
    "print(\"Cluster ID:\")\n",
    "Y = vectorizer.transform([\"steel drill\"])\n",
    "prediction = model.predict(Y)\n",
    "print(prediction)"
   ]
  },
  {
   "cell_type": "code",
   "execution_count": 11,
   "id": "82baad23",
   "metadata": {},
   "outputs": [
    {
     "name": "stdout",
     "output_type": "stream",
     "text": [
      "Cluster ID:\n",
      "[4]\n"
     ]
    }
   ],
   "source": [
    "print(\"Cluster ID:\")\n",
    "Y = vectorizer.transform([\"water\"])\n",
    "prediction = model.predict(Y)\n",
    "print(prediction)"
   ]
  },
  {
   "cell_type": "markdown",
   "id": "182e8895",
   "metadata": {},
   "source": [
    "Once a cluster is identified based on the user's search words, the recommendation system can display items from the corresponding product clusters based on the product descriptions."
   ]
  }
 ],
 "metadata": {
  "kernelspec": {
   "display_name": "Python 3 (ipykernel)",
   "language": "python",
   "name": "python3"
  },
  "language_info": {
   "codemirror_mode": {
    "name": "ipython",
    "version": 3
   },
   "file_extension": ".py",
   "mimetype": "text/x-python",
   "name": "python",
   "nbconvert_exporter": "python",
   "pygments_lexer": "ipython3",
   "version": "3.9.12"
  }
 },
 "nbformat": 4,
 "nbformat_minor": 5
}
